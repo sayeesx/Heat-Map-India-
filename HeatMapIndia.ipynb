{
 "cells": [
  {
   "cell_type": "code",
   "execution_count": 29,
   "id": "f0774ea1-a893-4643-8c71-c5170cc62327",
   "metadata": {},
   "outputs": [],
   "source": [
    "import matplotlib.pyplot as plt\n",
    "import pandas as pd\n",
    "import geopandas as gpd\n",
    "import numpy as np\n",
    "from shapely.geometry import box"
   ]
  },
  {
   "cell_type": "code",
   "execution_count": 30,
   "id": "06fc4ee8-4168-4427-9435-6f1d2a0defbb",
   "metadata": {},
   "outputs": [],
   "source": [
    "\n",
    "# --- Configuration Constants ---\n",
    "# Paths:\n",
    "INDIA_STATES_PATH = r\"gadm41_IND_1.json\"  # Unzipped path to India GeoJSON\n",
    "INDIA_EVENT_DATA_PATH = r\"crime_dataset_in.csv\"  # Kaggle city-level crime dataset with city names only\n",
    "\n",
    "# Coordinate Reference Systems (CRS):\n",
    "CRS_LAT_LON = \"EPSG:4326\"  # WGS84 (original lat/lon)\n",
    "CRS_PROJECTED = \"EPSG:3857\"  # Web Mercator (for plotting and metrics)\n",
    "\n",
    "# Grid Parameters:\n",
    "GRID_SIZE_KM = 50\n",
    "HEATMAP_GRID_SIZE = GRID_SIZE_KM * 1000  # meters\n",
    "\n",
    "# Plotting Configuration:\n",
    "FIGURE_SIZE = (15, 12)\n",
    "SAVE_DPI = 300\n",
    "SAVE_FILENAME = 'india_crime_heatmap.png'\n"
   ]
  },
  {
   "cell_type": "code",
   "execution_count": 31,
   "id": "ac88f665-1bec-4c16-b953-238e8d54ba34",
   "metadata": {},
   "outputs": [],
   "source": [
    "# --- Load and Preprocess Data ---\n",
    "def geocode_city_to_latlon(df, city_column='City'):\n",
    "    print(\"Geocoding city names to coordinates...\")\n",
    "    import geopy\n",
    "    from geopy.geocoders import Nominatim\n",
    "    from geopy.extra.rate_limiter import RateLimiter\n",
    "\n",
    "    geolocator = Nominatim(user_agent=\"crime_heatmap\")\n",
    "    geocode = RateLimiter(geolocator.geocode, min_delay_seconds=1)\n",
    "    \n",
    "    df['location'] = df[city_column].apply(geocode)\n",
    "    df = df.dropna(subset=['location'])\n",
    "    df['lat'] = df['location'].apply(lambda loc: loc.latitude)\n",
    "    df['lon'] = df['location'].apply(lambda loc: loc.longitude)\n",
    "    return df\n",
    "\n",
    "def load_event_data():\n",
    "    print(\"Loading crime data...\")\n",
    "    df = pd.read_csv(INDIA_EVENT_DATA_PATH)\n",
    "    if 'lat' not in df.columns or 'lon' not in df.columns:\n",
    "        df = geocode_city_to_latlon(df, city_column='City')\n",
    "    df = df.dropna(subset=['lon', 'lat'])\n",
    "    gdf = gpd.GeoDataFrame(df,\n",
    "        geometry=gpd.points_from_xy(df['lon'], df['lat']),\n",
    "        crs=CRS_LAT_LON).to_crs(CRS_PROJECTED)\n",
    "    return gdf\n",
    "\n",
    "def load_india_states():\n",
    "    print(\"Loading India state boundaries...\")\n",
    "    states_gdf = gpd.read_file(INDIA_STATES_PATH).to_crs(CRS_PROJECTED)\n",
    "    return states_gdf"
   ]
  },
  {
   "cell_type": "code",
   "execution_count": 32,
   "id": "a2c48873-c211-4a45-a854-3f8532e224f2",
   "metadata": {},
   "outputs": [
    {
     "name": "stdout",
     "output_type": "stream",
     "text": [
      "Loading crime data...\n"
     ]
    },
    {
     "ename": "FileNotFoundError",
     "evalue": "[Errno 2] No such file or directory: 'crime_dataset_in.csv'",
     "output_type": "error",
     "traceback": [
      "\u001b[1;31m---------------------------------------------------------------------------\u001b[0m",
      "\u001b[1;31mFileNotFoundError\u001b[0m                         Traceback (most recent call last)",
      "Cell \u001b[1;32mIn[32], line 2\u001b[0m\n\u001b[0;32m      1\u001b[0m \u001b[38;5;66;03m# --- Load and Compute Bounding Box ---\u001b[39;00m\n\u001b[1;32m----> 2\u001b[0m gdf \u001b[38;5;241m=\u001b[39m load_event_data()\n\u001b[0;32m      3\u001b[0m states_gdf \u001b[38;5;241m=\u001b[39m load_india_states()\n\u001b[0;32m      5\u001b[0m \u001b[38;5;66;03m# Calculate bounds dynamically from shapefile\u001b[39;00m\n",
      "Cell \u001b[1;32mIn[31], line 19\u001b[0m, in \u001b[0;36mload_event_data\u001b[1;34m()\u001b[0m\n\u001b[0;32m     17\u001b[0m \u001b[38;5;28;01mdef\u001b[39;00m \u001b[38;5;21mload_event_data\u001b[39m():\n\u001b[0;32m     18\u001b[0m     \u001b[38;5;28mprint\u001b[39m(\u001b[38;5;124m\"\u001b[39m\u001b[38;5;124mLoading crime data...\u001b[39m\u001b[38;5;124m\"\u001b[39m)\n\u001b[1;32m---> 19\u001b[0m     df \u001b[38;5;241m=\u001b[39m pd\u001b[38;5;241m.\u001b[39mread_csv(INDIA_EVENT_DATA_PATH)\n\u001b[0;32m     20\u001b[0m     \u001b[38;5;28;01mif\u001b[39;00m \u001b[38;5;124m'\u001b[39m\u001b[38;5;124mlat\u001b[39m\u001b[38;5;124m'\u001b[39m \u001b[38;5;129;01mnot\u001b[39;00m \u001b[38;5;129;01min\u001b[39;00m df\u001b[38;5;241m.\u001b[39mcolumns \u001b[38;5;129;01mor\u001b[39;00m \u001b[38;5;124m'\u001b[39m\u001b[38;5;124mlon\u001b[39m\u001b[38;5;124m'\u001b[39m \u001b[38;5;129;01mnot\u001b[39;00m \u001b[38;5;129;01min\u001b[39;00m df\u001b[38;5;241m.\u001b[39mcolumns:\n\u001b[0;32m     21\u001b[0m         df \u001b[38;5;241m=\u001b[39m geocode_city_to_latlon(df, city_column\u001b[38;5;241m=\u001b[39m\u001b[38;5;124m'\u001b[39m\u001b[38;5;124mCity\u001b[39m\u001b[38;5;124m'\u001b[39m)\n",
      "File \u001b[1;32m~\\anaconda3\\Lib\\site-packages\\pandas\\io\\parsers\\readers.py:1026\u001b[0m, in \u001b[0;36mread_csv\u001b[1;34m(filepath_or_buffer, sep, delimiter, header, names, index_col, usecols, dtype, engine, converters, true_values, false_values, skipinitialspace, skiprows, skipfooter, nrows, na_values, keep_default_na, na_filter, verbose, skip_blank_lines, parse_dates, infer_datetime_format, keep_date_col, date_parser, date_format, dayfirst, cache_dates, iterator, chunksize, compression, thousands, decimal, lineterminator, quotechar, quoting, doublequote, escapechar, comment, encoding, encoding_errors, dialect, on_bad_lines, delim_whitespace, low_memory, memory_map, float_precision, storage_options, dtype_backend)\u001b[0m\n\u001b[0;32m   1013\u001b[0m kwds_defaults \u001b[38;5;241m=\u001b[39m _refine_defaults_read(\n\u001b[0;32m   1014\u001b[0m     dialect,\n\u001b[0;32m   1015\u001b[0m     delimiter,\n\u001b[1;32m   (...)\u001b[0m\n\u001b[0;32m   1022\u001b[0m     dtype_backend\u001b[38;5;241m=\u001b[39mdtype_backend,\n\u001b[0;32m   1023\u001b[0m )\n\u001b[0;32m   1024\u001b[0m kwds\u001b[38;5;241m.\u001b[39mupdate(kwds_defaults)\n\u001b[1;32m-> 1026\u001b[0m \u001b[38;5;28;01mreturn\u001b[39;00m _read(filepath_or_buffer, kwds)\n",
      "File \u001b[1;32m~\\anaconda3\\Lib\\site-packages\\pandas\\io\\parsers\\readers.py:620\u001b[0m, in \u001b[0;36m_read\u001b[1;34m(filepath_or_buffer, kwds)\u001b[0m\n\u001b[0;32m    617\u001b[0m _validate_names(kwds\u001b[38;5;241m.\u001b[39mget(\u001b[38;5;124m\"\u001b[39m\u001b[38;5;124mnames\u001b[39m\u001b[38;5;124m\"\u001b[39m, \u001b[38;5;28;01mNone\u001b[39;00m))\n\u001b[0;32m    619\u001b[0m \u001b[38;5;66;03m# Create the parser.\u001b[39;00m\n\u001b[1;32m--> 620\u001b[0m parser \u001b[38;5;241m=\u001b[39m TextFileReader(filepath_or_buffer, \u001b[38;5;241m*\u001b[39m\u001b[38;5;241m*\u001b[39mkwds)\n\u001b[0;32m    622\u001b[0m \u001b[38;5;28;01mif\u001b[39;00m chunksize \u001b[38;5;129;01mor\u001b[39;00m iterator:\n\u001b[0;32m    623\u001b[0m     \u001b[38;5;28;01mreturn\u001b[39;00m parser\n",
      "File \u001b[1;32m~\\anaconda3\\Lib\\site-packages\\pandas\\io\\parsers\\readers.py:1620\u001b[0m, in \u001b[0;36mTextFileReader.__init__\u001b[1;34m(self, f, engine, **kwds)\u001b[0m\n\u001b[0;32m   1617\u001b[0m     \u001b[38;5;28mself\u001b[39m\u001b[38;5;241m.\u001b[39moptions[\u001b[38;5;124m\"\u001b[39m\u001b[38;5;124mhas_index_names\u001b[39m\u001b[38;5;124m\"\u001b[39m] \u001b[38;5;241m=\u001b[39m kwds[\u001b[38;5;124m\"\u001b[39m\u001b[38;5;124mhas_index_names\u001b[39m\u001b[38;5;124m\"\u001b[39m]\n\u001b[0;32m   1619\u001b[0m \u001b[38;5;28mself\u001b[39m\u001b[38;5;241m.\u001b[39mhandles: IOHandles \u001b[38;5;241m|\u001b[39m \u001b[38;5;28;01mNone\u001b[39;00m \u001b[38;5;241m=\u001b[39m \u001b[38;5;28;01mNone\u001b[39;00m\n\u001b[1;32m-> 1620\u001b[0m \u001b[38;5;28mself\u001b[39m\u001b[38;5;241m.\u001b[39m_engine \u001b[38;5;241m=\u001b[39m \u001b[38;5;28mself\u001b[39m\u001b[38;5;241m.\u001b[39m_make_engine(f, \u001b[38;5;28mself\u001b[39m\u001b[38;5;241m.\u001b[39mengine)\n",
      "File \u001b[1;32m~\\anaconda3\\Lib\\site-packages\\pandas\\io\\parsers\\readers.py:1880\u001b[0m, in \u001b[0;36mTextFileReader._make_engine\u001b[1;34m(self, f, engine)\u001b[0m\n\u001b[0;32m   1878\u001b[0m     \u001b[38;5;28;01mif\u001b[39;00m \u001b[38;5;124m\"\u001b[39m\u001b[38;5;124mb\u001b[39m\u001b[38;5;124m\"\u001b[39m \u001b[38;5;129;01mnot\u001b[39;00m \u001b[38;5;129;01min\u001b[39;00m mode:\n\u001b[0;32m   1879\u001b[0m         mode \u001b[38;5;241m+\u001b[39m\u001b[38;5;241m=\u001b[39m \u001b[38;5;124m\"\u001b[39m\u001b[38;5;124mb\u001b[39m\u001b[38;5;124m\"\u001b[39m\n\u001b[1;32m-> 1880\u001b[0m \u001b[38;5;28mself\u001b[39m\u001b[38;5;241m.\u001b[39mhandles \u001b[38;5;241m=\u001b[39m get_handle(\n\u001b[0;32m   1881\u001b[0m     f,\n\u001b[0;32m   1882\u001b[0m     mode,\n\u001b[0;32m   1883\u001b[0m     encoding\u001b[38;5;241m=\u001b[39m\u001b[38;5;28mself\u001b[39m\u001b[38;5;241m.\u001b[39moptions\u001b[38;5;241m.\u001b[39mget(\u001b[38;5;124m\"\u001b[39m\u001b[38;5;124mencoding\u001b[39m\u001b[38;5;124m\"\u001b[39m, \u001b[38;5;28;01mNone\u001b[39;00m),\n\u001b[0;32m   1884\u001b[0m     compression\u001b[38;5;241m=\u001b[39m\u001b[38;5;28mself\u001b[39m\u001b[38;5;241m.\u001b[39moptions\u001b[38;5;241m.\u001b[39mget(\u001b[38;5;124m\"\u001b[39m\u001b[38;5;124mcompression\u001b[39m\u001b[38;5;124m\"\u001b[39m, \u001b[38;5;28;01mNone\u001b[39;00m),\n\u001b[0;32m   1885\u001b[0m     memory_map\u001b[38;5;241m=\u001b[39m\u001b[38;5;28mself\u001b[39m\u001b[38;5;241m.\u001b[39moptions\u001b[38;5;241m.\u001b[39mget(\u001b[38;5;124m\"\u001b[39m\u001b[38;5;124mmemory_map\u001b[39m\u001b[38;5;124m\"\u001b[39m, \u001b[38;5;28;01mFalse\u001b[39;00m),\n\u001b[0;32m   1886\u001b[0m     is_text\u001b[38;5;241m=\u001b[39mis_text,\n\u001b[0;32m   1887\u001b[0m     errors\u001b[38;5;241m=\u001b[39m\u001b[38;5;28mself\u001b[39m\u001b[38;5;241m.\u001b[39moptions\u001b[38;5;241m.\u001b[39mget(\u001b[38;5;124m\"\u001b[39m\u001b[38;5;124mencoding_errors\u001b[39m\u001b[38;5;124m\"\u001b[39m, \u001b[38;5;124m\"\u001b[39m\u001b[38;5;124mstrict\u001b[39m\u001b[38;5;124m\"\u001b[39m),\n\u001b[0;32m   1888\u001b[0m     storage_options\u001b[38;5;241m=\u001b[39m\u001b[38;5;28mself\u001b[39m\u001b[38;5;241m.\u001b[39moptions\u001b[38;5;241m.\u001b[39mget(\u001b[38;5;124m\"\u001b[39m\u001b[38;5;124mstorage_options\u001b[39m\u001b[38;5;124m\"\u001b[39m, \u001b[38;5;28;01mNone\u001b[39;00m),\n\u001b[0;32m   1889\u001b[0m )\n\u001b[0;32m   1890\u001b[0m \u001b[38;5;28;01massert\u001b[39;00m \u001b[38;5;28mself\u001b[39m\u001b[38;5;241m.\u001b[39mhandles \u001b[38;5;129;01mis\u001b[39;00m \u001b[38;5;129;01mnot\u001b[39;00m \u001b[38;5;28;01mNone\u001b[39;00m\n\u001b[0;32m   1891\u001b[0m f \u001b[38;5;241m=\u001b[39m \u001b[38;5;28mself\u001b[39m\u001b[38;5;241m.\u001b[39mhandles\u001b[38;5;241m.\u001b[39mhandle\n",
      "File \u001b[1;32m~\\anaconda3\\Lib\\site-packages\\pandas\\io\\common.py:873\u001b[0m, in \u001b[0;36mget_handle\u001b[1;34m(path_or_buf, mode, encoding, compression, memory_map, is_text, errors, storage_options)\u001b[0m\n\u001b[0;32m    868\u001b[0m \u001b[38;5;28;01melif\u001b[39;00m \u001b[38;5;28misinstance\u001b[39m(handle, \u001b[38;5;28mstr\u001b[39m):\n\u001b[0;32m    869\u001b[0m     \u001b[38;5;66;03m# Check whether the filename is to be opened in binary mode.\u001b[39;00m\n\u001b[0;32m    870\u001b[0m     \u001b[38;5;66;03m# Binary mode does not support 'encoding' and 'newline'.\u001b[39;00m\n\u001b[0;32m    871\u001b[0m     \u001b[38;5;28;01mif\u001b[39;00m ioargs\u001b[38;5;241m.\u001b[39mencoding \u001b[38;5;129;01mand\u001b[39;00m \u001b[38;5;124m\"\u001b[39m\u001b[38;5;124mb\u001b[39m\u001b[38;5;124m\"\u001b[39m \u001b[38;5;129;01mnot\u001b[39;00m \u001b[38;5;129;01min\u001b[39;00m ioargs\u001b[38;5;241m.\u001b[39mmode:\n\u001b[0;32m    872\u001b[0m         \u001b[38;5;66;03m# Encoding\u001b[39;00m\n\u001b[1;32m--> 873\u001b[0m         handle \u001b[38;5;241m=\u001b[39m \u001b[38;5;28mopen\u001b[39m(\n\u001b[0;32m    874\u001b[0m             handle,\n\u001b[0;32m    875\u001b[0m             ioargs\u001b[38;5;241m.\u001b[39mmode,\n\u001b[0;32m    876\u001b[0m             encoding\u001b[38;5;241m=\u001b[39mioargs\u001b[38;5;241m.\u001b[39mencoding,\n\u001b[0;32m    877\u001b[0m             errors\u001b[38;5;241m=\u001b[39merrors,\n\u001b[0;32m    878\u001b[0m             newline\u001b[38;5;241m=\u001b[39m\u001b[38;5;124m\"\u001b[39m\u001b[38;5;124m\"\u001b[39m,\n\u001b[0;32m    879\u001b[0m         )\n\u001b[0;32m    880\u001b[0m     \u001b[38;5;28;01melse\u001b[39;00m:\n\u001b[0;32m    881\u001b[0m         \u001b[38;5;66;03m# Binary mode\u001b[39;00m\n\u001b[0;32m    882\u001b[0m         handle \u001b[38;5;241m=\u001b[39m \u001b[38;5;28mopen\u001b[39m(handle, ioargs\u001b[38;5;241m.\u001b[39mmode)\n",
      "\u001b[1;31mFileNotFoundError\u001b[0m: [Errno 2] No such file or directory: 'crime_dataset_in.csv'"
     ]
    }
   ],
   "source": [
    "# --- Load and Compute Bounding Box ---\n",
    "gdf = load_event_data()\n",
    "states_gdf = load_india_states()\n",
    "\n",
    "# Calculate bounds dynamically from shapefile\n",
    "minx, miny, maxx, maxy = states_gdf.total_bounds\n",
    "PAD = 50000  # Add 50 km padding\n",
    "BOUNDS_MIN_X = minx - PAD\n",
    "BOUNDS_MAX_X = maxx + PAD\n",
    "BOUNDS_MIN_Y = miny - PAD\n",
    "BOUNDS_MAX_Y = maxy + PAD\n",
    "\n",
    "# Clip data to India extent\n",
    "clip_box = box(BOUNDS_MIN_X, BOUNDS_MIN_Y, BOUNDS_MAX_X, BOUNDS_MAX_Y)\n",
    "gdf = gdf[gdf.geometry.within(clip_box)].copy()\n",
    "states_clipped = gpd.clip(states_gdf, clip_box)\n"
   ]
  },
  {
   "cell_type": "code",
   "execution_count": 33,
   "id": "53d3271c-b60c-4c3a-ac26-6cda68b13d02",
   "metadata": {},
   "outputs": [
    {
     "name": "stdout",
     "output_type": "stream",
     "text": [
      "Generating heatmap bins...\n"
     ]
    },
    {
     "ename": "NameError",
     "evalue": "name 'BOUNDS_MIN_X' is not defined",
     "output_type": "error",
     "traceback": [
      "\u001b[1;31m---------------------------------------------------------------------------\u001b[0m",
      "\u001b[1;31mNameError\u001b[0m                                 Traceback (most recent call last)",
      "Cell \u001b[1;32mIn[33], line 3\u001b[0m\n\u001b[0;32m      1\u001b[0m \u001b[38;5;66;03m# --- Heatmap Generation ---\u001b[39;00m\n\u001b[0;32m      2\u001b[0m \u001b[38;5;28mprint\u001b[39m(\u001b[38;5;124m\"\u001b[39m\u001b[38;5;124mGenerating heatmap bins...\u001b[39m\u001b[38;5;124m\"\u001b[39m)\n\u001b[1;32m----> 3\u001b[0m x_bins \u001b[38;5;241m=\u001b[39m np\u001b[38;5;241m.\u001b[39marange(BOUNDS_MIN_X, BOUNDS_MAX_X \u001b[38;5;241m+\u001b[39m HEATMAP_GRID_SIZE, HEATMAP_GRID_SIZE)\n\u001b[0;32m      4\u001b[0m y_bins \u001b[38;5;241m=\u001b[39m np\u001b[38;5;241m.\u001b[39marange(BOUNDS_MIN_Y, BOUNDS_MAX_Y \u001b[38;5;241m+\u001b[39m HEATMAP_GRID_SIZE, HEATMAP_GRID_SIZE)\n\u001b[0;32m      6\u001b[0m \u001b[38;5;28mprint\u001b[39m(\u001b[38;5;124m\"\u001b[39m\u001b[38;5;124mComputing 2D histogram...\u001b[39m\u001b[38;5;124m\"\u001b[39m)\n",
      "\u001b[1;31mNameError\u001b[0m: name 'BOUNDS_MIN_X' is not defined"
     ]
    }
   ],
   "source": [
    "# --- Heatmap Generation ---\n",
    "print(\"Generating heatmap bins...\")\n",
    "x_bins = np.arange(BOUNDS_MIN_X, BOUNDS_MAX_X + HEATMAP_GRID_SIZE, HEATMAP_GRID_SIZE)\n",
    "y_bins = np.arange(BOUNDS_MIN_Y, BOUNDS_MAX_Y + HEATMAP_GRID_SIZE, HEATMAP_GRID_SIZE)\n",
    "\n",
    "print(\"Computing 2D histogram...\")\n",
    "heatmap, x_edges, y_edges = np.histogram2d(\n",
    "    gdf.geometry.x, gdf.geometry.y, bins=[x_bins, y_bins])\n"
   ]
  },
  {
   "cell_type": "code",
   "execution_count": 34,
   "id": "6708eb84-50ef-4d29-9105-81f35e73632f",
   "metadata": {},
   "outputs": [
    {
     "name": "stdout",
     "output_type": "stream",
     "text": [
      "Plotting results...\n"
     ]
    },
    {
     "ename": "NameError",
     "evalue": "name 'heatmap' is not defined",
     "output_type": "error",
     "traceback": [
      "\u001b[1;31m---------------------------------------------------------------------------\u001b[0m",
      "\u001b[1;31mNameError\u001b[0m                                 Traceback (most recent call last)",
      "Cell \u001b[1;32mIn[34], line 7\u001b[0m\n\u001b[0;32m      4\u001b[0m fig\u001b[38;5;241m.\u001b[39msubplots_adjust(top\u001b[38;5;241m=\u001b[39m\u001b[38;5;241m0.85\u001b[39m)\n\u001b[0;32m      6\u001b[0m \u001b[38;5;66;03m# Plot heatmap first\u001b[39;00m\n\u001b[1;32m----> 7\u001b[0m vmax \u001b[38;5;241m=\u001b[39m np\u001b[38;5;241m.\u001b[39mmax(heatmap)\n\u001b[0;32m      8\u001b[0m img \u001b[38;5;241m=\u001b[39m ax\u001b[38;5;241m.\u001b[39mimshow(\n\u001b[0;32m      9\u001b[0m     heatmap\u001b[38;5;241m.\u001b[39mT,\n\u001b[0;32m     10\u001b[0m     extent\u001b[38;5;241m=\u001b[39m[x_bins[\u001b[38;5;241m0\u001b[39m], x_bins[\u001b[38;5;241m-\u001b[39m\u001b[38;5;241m1\u001b[39m], y_bins[\u001b[38;5;241m0\u001b[39m], y_bins[\u001b[38;5;241m-\u001b[39m\u001b[38;5;241m1\u001b[39m]],\n\u001b[0;32m     11\u001b[0m     origin\u001b[38;5;241m=\u001b[39m\u001b[38;5;124m'\u001b[39m\u001b[38;5;124mlower\u001b[39m\u001b[38;5;124m'\u001b[39m, cmap\u001b[38;5;241m=\u001b[39mplt\u001b[38;5;241m.\u001b[39mcm\u001b[38;5;241m.\u001b[39mhot, vmin\u001b[38;5;241m=\u001b[39m\u001b[38;5;241m0\u001b[39m, vmax\u001b[38;5;241m=\u001b[39mvmax, aspect\u001b[38;5;241m=\u001b[39m\u001b[38;5;124m'\u001b[39m\u001b[38;5;124mauto\u001b[39m\u001b[38;5;124m'\u001b[39m)\n\u001b[0;32m     13\u001b[0m \u001b[38;5;66;03m# Overlay state boundaries\u001b[39;00m\n",
      "\u001b[1;31mNameError\u001b[0m: name 'heatmap' is not defined"
     ]
    },
    {
     "data": {
      "image/png": "[encoded data removed]",
      "text/plain": [
       "<Figure size 1500x1200 with 1 Axes>"
      ]
     },
     "metadata": {},
     "output_type": "display_data"
    }
   ],
   "source": [
    "# --- Plotting ---\n",
    "print(\"Plotting results...\")\n",
    "fig, ax = plt.subplots(figsize=FIGURE_SIZE)\n",
    "fig.subplots_adjust(top=0.85)\n",
    "\n",
    "# Plot heatmap first\n",
    "vmax = np.max(heatmap)\n",
    "img = ax.imshow(\n",
    "    heatmap.T,\n",
    "    extent=[x_bins[0], x_bins[-1], y_bins[0], y_bins[-1]],\n",
    "    origin='lower', cmap=plt.cm.hot, vmin=0, vmax=vmax, aspect='auto')\n",
    "\n",
    "# Overlay state boundaries\n",
    "states_clipped.boundary.plot(ax=ax, color='white', linewidth=1)\n",
    "\n",
    "# Annotations\n",
    "plt.text(BOUNDS_MIN_X, BOUNDS_MAX_Y + PAD, 'India Crime Density Heatmap',\n",
    "         fontsize=22, fontweight='bold', ha='left')\n",
    "plt.text(BOUNDS_MIN_X, BOUNDS_MAX_Y + PAD/2,\n",
    "         f'{GRID_SIZE_KM}x{GRID_SIZE_KM} km grid cells', fontsize=14, ha='left')\n",
    "\n",
    "# Source Label\n",
    "plt.text(BOUNDS_MIN_X + PAD, BOUNDS_MIN_Y + PAD,\n",
    "         'Source: Kaggle Indian Crimes Dataset', fontsize=11, color='white', fontstyle='italic')\n",
    "\n",
    "# Cleanup axes\n",
    "ax.axis('off')\n",
    "\n",
    "# Colorbar\n",
    "ticks = np.linspace(0, vmax, 6, dtype=int)\n",
    "cbar = plt.colorbar(img, ax=ax, shrink=0.6, ticks=ticks)\n",
    "cbar.set_label('\\nCrime Count per Grid Cell', fontsize=14)\n",
    "cbar.ax.set_yticklabels(list(map(str, ticks)))\n",
    "\n",
    "# Save and Show\n",
    "plt.savefig(SAVE_FILENAME, dpi=SAVE_DPI, bbox_inches='tight')\n",
    "print(f\"Plot saved as {SAVE_FILENAME}\")\n",
    "plt.show()\n"
   ]
  },
  {
   "cell_type": "code",
   "execution_count": null,
   "id": "d7e9535c-0f4c-4e98-8634-7972a55d4c1c",
   "metadata": {},
   "outputs": [],
   "source": []
  },
  {
   "cell_type": "code",
   "execution_count": null,
   "id": "c8671d9d-ab08-4969-8af3-635d980020ea",
   "metadata": {},
   "outputs": [],
   "source": []
  },
  {
   "cell_type": "code",
   "execution_count": null,
   "id": "7012567a-c4d8-48a9-9eab-f7a48d093fe7",
   "metadata": {},
   "outputs": [],
   "source": []
  }
 ],
 "metadata": {
  "kernelspec": {
   "display_name": "Python 3 (ipykernel)",
   "language": "python",
   "name": "python3"
  },
  "language_info": {
   "codemirror_mode": {
    "name": "ipython",
    "version": 3
   },
   "file_extension": ".py",
   "mimetype": "text/x-python",
   "name": "python",
   "nbconvert_exporter": "python",
   "pygments_lexer": "ipython3",
   "version": "3.11.5"
  }
 },
 "nbformat": 4,
 "nbformat_minor": 5
}
